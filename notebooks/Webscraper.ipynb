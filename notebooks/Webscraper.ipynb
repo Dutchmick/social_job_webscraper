{
 "cells": [
  {
   "cell_type": "markdown",
   "metadata": {},
   "source": [
    "# Objective\n",
    "Speed up my job search by automating searching through the websites I frequently use."
   ]
  },
  {
   "cell_type": "code",
   "execution_count": 1,
   "metadata": {},
   "outputs": [],
   "source": [
    "import numpy as np\n",
    "import pandas as pd\n",
    "import os\n",
    "import datetime\n",
    "import requests\n",
    "import pprint\n",
    "import re\n",
    "from bs4 import BeautifulSoup"
   ]
  },
  {
   "cell_type": "markdown",
   "metadata": {},
   "source": [
    "# Preparation"
   ]
  },
  {
   "cell_type": "code",
   "execution_count": 2,
   "metadata": {},
   "outputs": [],
   "source": [
    "# Make root folder the current working directory\n",
    "os.chdir('..')\n",
    "# Folders\n",
    "folder_settings = './data/'\n",
    "folder_raw = './data/raw/'\n",
    "folder_interim = './data/interim/'\n",
    "folder_clean = './data/processed/'"
   ]
  },
  {
   "cell_type": "code",
   "execution_count": 3,
   "metadata": {},
   "outputs": [],
   "source": [
    "# Create empty arrays per datapoint\n",
    "job_titles = []\n",
    "job_links = []\n",
    "job_locations = []\n",
    "job_companies = []\n",
    "job_post_dates = []\n",
    "job_source = []"
   ]
  },
  {
   "cell_type": "code",
   "execution_count": 4,
   "metadata": {},
   "outputs": [],
   "source": [
    "date_today = datetime.date.today().strftime(\"%Y-%m-%d\")"
   ]
  },
  {
   "cell_type": "markdown",
   "metadata": {},
   "source": [
    "# Scrape websites"
   ]
  },
  {
   "cell_type": "markdown",
   "metadata": {},
   "source": [
    "## Nextbillion"
   ]
  },
  {
   "cell_type": "code",
   "execution_count": 5,
   "metadata": {},
   "outputs": [],
   "source": [
    "urls = ['https://nextbillion.net/jobs/?jobs-page=1', 'https://nextbillion.net/jobs/?jobs-page=2',  'https://nextbillion.net/jobs/?jobs-page=2']"
   ]
  },
  {
   "cell_type": "code",
   "execution_count": 6,
   "metadata": {},
   "outputs": [],
   "source": [
    "# Use loop to extract required data per \n",
    "for url in urls:\n",
    "    soup_page = requests.get(url)\n",
    "    soup_page = BeautifulSoup(soup_page.content, 'html.parser')\n",
    "    # grabs each job\n",
    "    jobs = soup_page.findAll(\"li\", {\"class\":\"clearfix\"})\n",
    "    for job in jobs:\n",
    "        job_title = job.h3.text\n",
    "        job_titles.append(job_title)\n",
    "        job_location = job.findAll(\"dd\")[1].text\n",
    "        job_locations.append(job_location)\n",
    "        job_company = job.findAll(\"dd\")[0].text\n",
    "        job_companies.append(job_company)\n",
    "        job_post_date = job.find(\"div\", {\"class\":\"event-date jobs-date\"}).text\n",
    "        job_post_dates.append(job_post_date)\n",
    "        job_link = job.h3.a.get('href')\n",
    "        job_links.append(job_link)\n",
    "        job_source.append('nextbillion')"
   ]
  },
  {
   "cell_type": "markdown",
   "metadata": {},
   "source": [
    "## Findevgateway"
   ]
  },
  {
   "cell_type": "code",
   "execution_count": 7,
   "metadata": {},
   "outputs": [],
   "source": [
    "urls = 'https://www.findevgateway.org/jobs?job_type=All&regions=&countries=&remote=All&f%5B0%5D=job_remote%3A4111&f%5B1%5D=job_type%3A3906'"
   ]
  },
  {
   "cell_type": "code",
   "execution_count": 8,
   "metadata": {},
   "outputs": [],
   "source": [
    "soup_page = requests.get(urls)\n",
    "soup_page = BeautifulSoup(soup_page.content, 'html.parser')"
   ]
  },
  {
   "cell_type": "code",
   "execution_count": 9,
   "metadata": {},
   "outputs": [],
   "source": [
    "for ad_n in list(range(0,7)):\n",
    "    job_title = soup_page.findAll('a', {\"href\": re.compile('jobs-internships')})[ad_n].text\n",
    "    job_titles.append(job_title)\n",
    "    job_company = soup_page.findAll('a', {\"href\": re.compile('/organization/')})[ad_n].text\n",
    "    job_companies.append(job_company)\n",
    "    job_post_date = soup_page.findAll(\"span\", {\"class\":\"date\"})[ad_n].text\n",
    "    job_post_dates.append(job_post_date)\n",
    "    job_location = soup_page.find_all(text=re.compile('Location'))[ad_n]\n",
    "    job_locations.append(job_location)\n",
    "    job_links.append('TBC')\n",
    "    job_source.append('Findevgateway')"
   ]
  },
  {
   "cell_type": "markdown",
   "metadata": {},
   "source": [
    "job_post_date = soup_page.findAll(\"span\", {\"class\":\"date\"})[1].text.split(':')[1]\n",
    "job_company = soup_page.findAll('a', {\"href\": re.compile('/organization/')})\n",
    "job_location = soup_page.findAll(\"div\", class_=\"postmeta\")[1].text.split(':')[1]"
   ]
  },
  {
   "cell_type": "markdown",
   "metadata": {},
   "source": [
    "soup_page.find_all(text=re.compile('Location'))"
   ]
  },
  {
   "cell_type": "markdown",
   "metadata": {},
   "source": [
    "soup_page.findAll('a', {\"href\": re.compile('/organization/')}"
   ]
  },
  {
   "cell_type": "markdown",
   "metadata": {},
   "source": [
    "job_location = soup_page.findAll(\"div\", class_=\"postmeta\")\n",
    "#[ad_n].text\n",
    "job_location"
   ]
  },
  {
   "cell_type": "markdown",
   "metadata": {},
   "source": [
    "soup_page.findAll('a', {\"href\": re.compile('jobs-internships')})[3].text"
   ]
  },
  {
   "cell_type": "markdown",
   "metadata": {},
   "source": [
    "soup_page.find_all(text=re.compile('Location'))[ad_n]"
   ]
  },
  {
   "cell_type": "markdown",
   "metadata": {},
   "source": [
    "for ad in list(range(1,5)):\n",
    "    job_post_date = soup_page.findAll(\"span\", {\"class\":\"date\"})[item].text.split(':')[1]\n",
    "    print(job_post_date)\n",
    "    job_company = soup_page.findAll(\"div\", class_=\"postmeta\")[item].text\n",
    "    print(job_company)\n",
    "    job_location = soup_page.findAll(\"div\", class_=\"postmeta\")[item].text.split(':')[1]"
   ]
  },
  {
   "cell_type": "markdown",
   "metadata": {},
   "source": [
    "qqq"
   ]
  },
  {
   "cell_type": "markdown",
   "metadata": {},
   "source": [
    "job_company"
   ]
  },
  {
   "cell_type": "markdown",
   "metadata": {},
   "source": [
    "soup_page.findAll(\"div\", class_=\"postmeta\")[1].text.split(':')[1]"
   ]
  },
  {
   "cell_type": "markdown",
   "metadata": {},
   "source": [
    "qqq"
   ]
  },
  {
   "cell_type": "markdown",
   "metadata": {},
   "source": [
    "soup_page.findAll(\"a\", href=\"/organization/angaza\")"
   ]
  },
  {
   "cell_type": "markdown",
   "metadata": {},
   "source": [
    "\n",
    "soup_page.findAll('a', {\"href\": re.compile('/organization/')})"
   ]
  },
  {
   "cell_type": "markdown",
   "metadata": {},
   "source": [
    "soup_page.findAll('div', {\"href\": \"/organization/angaza\"})"
   ]
  },
  {
   "cell_type": "markdown",
   "metadata": {},
   "source": [
    "re.compile('/')"
   ]
  },
  {
   "cell_type": "markdown",
   "metadata": {},
   "source": [
    "import re\n",
    "soup_page.findAll('div', {\"id\": re.compile('/')})"
   ]
  },
  {
   "cell_type": "markdown",
   "metadata": {},
   "source": [
    "soup_page.findAll('div', {\"postmeta\": lambda x: x and x.startswith('/*')})"
   ]
  },
  {
   "cell_type": "markdown",
   "metadata": {},
   "source": [
    "for item in soup.findAll('a', href=: lambda x: x and x.startswith('/org')}):"
   ]
  },
  {
   "cell_type": "markdown",
   "metadata": {},
   "source": [
    "soup_page.findAll(\"div\", class_=\"postmeta\")"
   ]
  },
  {
   "cell_type": "markdown",
   "metadata": {},
   "source": []
  },
  {
   "cell_type": "markdown",
   "metadata": {},
   "source": [
    "soup_page.findAll(\"div\", {\"class\":\"meta\"})"
   ]
  },
  {
   "cell_type": "markdown",
   "metadata": {},
   "source": []
  },
  {
   "cell_type": "markdown",
   "metadata": {},
   "source": [
    "soup_page.findAll('a', href=True)"
   ]
  },
  {
   "cell_type": "markdown",
   "metadata": {},
   "source": [
    "text = html.read()\n",
    "plaintext = text.decode('utf8')"
   ]
  },
  {
   "cell_type": "markdown",
   "metadata": {},
   "source": [
    "# Create dataframe"
   ]
  },
  {
   "cell_type": "code",
   "execution_count": 10,
   "metadata": {},
   "outputs": [],
   "source": [
    "# create dataframe based on extracted data\n",
    "jobs_df = pd.DataFrame({'job_title': job_titles,\n",
    "                        'company': job_companies,\n",
    "                        'location': job_locations,\n",
    "                        'posting_date': job_post_dates,\n",
    "                        'source': job_source,\n",
    "                        'weblink': job_links})"
   ]
  },
  {
   "cell_type": "code",
   "execution_count": 11,
   "metadata": {},
   "outputs": [
    {
     "data": {
      "text/plain": [
       "31"
      ]
     },
     "execution_count": 11,
     "metadata": {},
     "output_type": "execute_result"
    }
   ],
   "source": [
    "jobs_df['job_title'].count()"
   ]
  },
  {
   "cell_type": "markdown",
   "metadata": {},
   "source": [
    "# Filter relevant jobs"
   ]
  },
  {
   "cell_type": "code",
   "execution_count": 12,
   "metadata": {},
   "outputs": [],
   "source": [
    "jobs_filtered_df = jobs_df.copy()"
   ]
  },
  {
   "cell_type": "code",
   "execution_count": 13,
   "metadata": {},
   "outputs": [],
   "source": [
    "# make job titles lower case to prevent \n",
    "jobs_filtered_df['job_title'] = jobs_filtered_df['job_title'].str.lower()"
   ]
  },
  {
   "cell_type": "code",
   "execution_count": 14,
   "metadata": {},
   "outputs": [],
   "source": [
    "filter_criteria = 'manager|data science|data scientist|analytics'"
   ]
  },
  {
   "cell_type": "code",
   "execution_count": 15,
   "metadata": {},
   "outputs": [],
   "source": [
    "jobs_filtered_df = jobs_filtered_df[jobs_filtered_df['job_title'].str.contains(filter_criteria)]"
   ]
  },
  {
   "cell_type": "markdown",
   "metadata": {},
   "source": [
    "# Export"
   ]
  },
  {
   "cell_type": "code",
   "execution_count": 16,
   "metadata": {},
   "outputs": [],
   "source": [
    "# Export complete dataframe\n",
    "filename = date_today + ' - Job search social data scientist - UNFILTERED.csv'\n",
    "jobs_df.to_csv(folder_interim + filename)"
   ]
  },
  {
   "cell_type": "code",
   "execution_count": 18,
   "metadata": {},
   "outputs": [],
   "source": [
    "# Export filtered data\n",
    "filename = date_today + ' - Job search social data scientist - FILTERED.csv'\n",
    "jobs_filtered_df.to_csv(folder_clean + filename)"
   ]
  }
 ],
 "metadata": {
  "kernelspec": {
   "display_name": "Python 3",
   "language": "python",
   "name": "python3"
  },
  "language_info": {
   "codemirror_mode": {
    "name": "ipython",
    "version": 3
   },
   "file_extension": ".py",
   "mimetype": "text/x-python",
   "name": "python",
   "nbconvert_exporter": "python",
   "pygments_lexer": "ipython3",
   "version": "3.6.12"
  }
 },
 "nbformat": 4,
 "nbformat_minor": 4
}
