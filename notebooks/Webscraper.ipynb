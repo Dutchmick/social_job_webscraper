{
 "cells": [
  {
   "cell_type": "markdown",
   "metadata": {},
   "source": [
    "# Objective\n",
    "Speed up my job search by automating searching through the websites I frequently use."
   ]
  },
  {
   "cell_type": "markdown",
   "metadata": {},
   "source": [
    "## Next steps\n",
    "- Add more websites\n",
    "- Filter jobs based on currently active jobs (date filter)\n",
    "- Make filter criteria configurable externally\n",
    "- Make script executable\n",
    "- Send update to email\n",
    "- Schedule script on server"
   ]
  },
  {
   "cell_type": "markdown",
   "metadata": {},
   "source": [
    "# Preparation"
   ]
  },
  {
   "cell_type": "code",
   "execution_count": 1,
   "metadata": {},
   "outputs": [],
   "source": [
    "import numpy as np\n",
    "import pandas as pd\n",
    "import os\n",
    "import datetime\n",
    "import requests\n",
    "import pprint\n",
    "import re\n",
    "from bs4 import BeautifulSoup"
   ]
  },
  {
   "cell_type": "code",
   "execution_count": 2,
   "metadata": {},
   "outputs": [],
   "source": [
    "# Make root folder the current working directory\n",
    "os.chdir('..')\n",
    "# Folders\n",
    "folder_settings = './data/'\n",
    "folder_raw = './data/raw/'\n",
    "folder_interim = './data/interim/'\n",
    "folder_clean = './data/processed/'"
   ]
  },
  {
   "cell_type": "code",
   "execution_count": 3,
   "metadata": {},
   "outputs": [],
   "source": [
    "# Create empty arrays per datapoint\n",
    "job_titles = []\n",
    "job_links = []\n",
    "job_locations = []\n",
    "job_companies = []\n",
    "job_exp_dates = []\n",
    "job_source = []"
   ]
  },
  {
   "cell_type": "code",
   "execution_count": 4,
   "metadata": {},
   "outputs": [],
   "source": [
    "date_today = datetime.date.today().strftime(\"%Y-%m-%d\")"
   ]
  },
  {
   "cell_type": "markdown",
   "metadata": {},
   "source": [
    "# Scrape websites"
   ]
  },
  {
   "cell_type": "markdown",
   "metadata": {},
   "source": [
    "## Nextbillion"
   ]
  },
  {
   "cell_type": "code",
   "execution_count": 5,
   "metadata": {},
   "outputs": [],
   "source": [
    "urls = ['https://nextbillion.net/jobs/?jobs-page=1', 'https://nextbillion.net/jobs/?jobs-page=2',  'https://nextbillion.net/jobs/?jobs-page=2']"
   ]
  },
  {
   "cell_type": "code",
   "execution_count": 6,
   "metadata": {},
   "outputs": [],
   "source": [
    "# Use loop to extract required data per \n",
    "for url in urls:\n",
    "    soup_page = requests.get(url)\n",
    "    soup_page = BeautifulSoup(soup_page.content, 'html.parser')\n",
    "    # grabs each job\n",
    "    jobs = soup_page.findAll(\"li\", {\"class\":\"clearfix\"})\n",
    "    for job in jobs:\n",
    "        job_title = job.h3.text\n",
    "        job_titles.append(job_title)\n",
    "        job_location = job.findAll(\"dd\")[1].text\n",
    "        job_locations.append(job_location)\n",
    "        job_company = job.findAll(\"dd\")[0].text\n",
    "        job_companies.append(job_company)\n",
    "        job_exp_date = job.findAll(\"dl\")[3].dd.text\n",
    "        job_exp_dates.append(job_exp_date)\n",
    "        job_link = job.h3.a.get('href')\n",
    "        job_links.append(job_link)\n",
    "        job_source.append('nextbillion')"
   ]
  },
  {
   "cell_type": "markdown",
   "metadata": {},
   "source": [
    "## Findevgateway"
   ]
  },
  {
   "cell_type": "code",
   "execution_count": 7,
   "metadata": {},
   "outputs": [],
   "source": [
    "urls = ['https://www.findevgateway.org/jobs?job_type=All&regions=&countries=&remote=All&f%5B0%5D=job_remote%3A4111&f%5B1%5D=job_type%3A3906']"
   ]
  },
  {
   "cell_type": "code",
   "execution_count": 8,
   "metadata": {},
   "outputs": [],
   "source": [
    "# Use loop to extract required data per website\n",
    "for url in urls:\n",
    "    soup_page = requests.get(url)\n",
    "    soup_page = BeautifulSoup(soup_page.content, 'html.parser')\n",
    "    # select each available job\n",
    "    jobs = soup_page.findAll(\"div\", {\"class\":\"listing__text\"})\n",
    "    # extract data per job in arrays\n",
    "    for job in jobs:\n",
    "        try:\n",
    "            job_title = job.find(\"a\", {\"hreflang\":\"en\"}).text\n",
    "        except IndexError:\n",
    "            job_title = 'Not available'\n",
    "        job_titles.append(job_title)\n",
    "        try:\n",
    "            job_location = job.findAll(\"div\", {\"class\":\"postmeta\"})[1].text.split(':')[1]\n",
    "        except IndexError:\n",
    "            job_location = 'Not available'\n",
    "        job_locations.append(job_location)\n",
    "        try:\n",
    "            job_company = job.find(\"div\", {\"class\":\"postmeta\"}).text[10:]\n",
    "        except IndexError:\n",
    "            job_company = 'Not available'\n",
    "        job_companies.append(job_company)\n",
    "        try:\n",
    "            job_exp_date = job.find(\"time\", {\"class\":\"datetime\"}).text\n",
    "        except IndexError:\n",
    "            job_exp_date = 'Not available'\n",
    "        job_exp_dates.append(job_exp_date)\n",
    "        try:\n",
    "            job_link = 'https://www.findevgateway.org' + job.h3.a.get('href')\n",
    "        except IndexError:\n",
    "            job_post_date = 'Not available'\n",
    "        job_links.append(job_link)\n",
    "        job_source.append('findevgateway')"
   ]
  },
  {
   "cell_type": "markdown",
   "metadata": {},
   "source": [
    "# Create dataframe"
   ]
  },
  {
   "cell_type": "code",
   "execution_count": 9,
   "metadata": {},
   "outputs": [],
   "source": [
    "# create dataframe based on extracted data\n",
    "jobs_df = pd.DataFrame({'job_title': job_titles,\n",
    "                        'company': job_companies,\n",
    "                        'location': job_locations,\n",
    "                        'expiration_date': job_exp_dates,\n",
    "                        'source': job_source,\n",
    "                        'weblink': job_links})"
   ]
  },
  {
   "cell_type": "code",
   "execution_count": 10,
   "metadata": {},
   "outputs": [
    {
     "data": {
      "text/plain": [
       "32"
      ]
     },
     "execution_count": 10,
     "metadata": {},
     "output_type": "execute_result"
    }
   ],
   "source": [
    "# Count unfiltered jobs\n",
    "jobs_df['job_title'].count()"
   ]
  },
  {
   "cell_type": "markdown",
   "metadata": {},
   "source": [
    "# Filter relevant jobs"
   ]
  },
  {
   "cell_type": "code",
   "execution_count": 11,
   "metadata": {},
   "outputs": [],
   "source": [
    "jobs_filtered_df = jobs_df.copy()"
   ]
  },
  {
   "cell_type": "code",
   "execution_count": 12,
   "metadata": {},
   "outputs": [],
   "source": [
    "# make job titles lower case to prevent \n",
    "jobs_filtered_df['job_title'] = jobs_filtered_df['job_title'].str.lower()"
   ]
  },
  {
   "cell_type": "code",
   "execution_count": 13,
   "metadata": {},
   "outputs": [],
   "source": [
    "filter_criteria = 'manager|data science|data scientist|analytics'"
   ]
  },
  {
   "cell_type": "code",
   "execution_count": 14,
   "metadata": {},
   "outputs": [],
   "source": [
    "jobs_filtered_df = jobs_filtered_df[jobs_filtered_df['job_title'].str.contains(filter_criteria)]"
   ]
  },
  {
   "cell_type": "markdown",
   "metadata": {},
   "source": [
    "# Export"
   ]
  },
  {
   "cell_type": "code",
   "execution_count": 16,
   "metadata": {},
   "outputs": [],
   "source": [
    "# Export complete dataframe\n",
    "filename = date_today + ' - Job search social data scientist - UNFILTERED.csv'\n",
    "jobs_df.to_csv(folder_interim + filename)"
   ]
  },
  {
   "cell_type": "code",
   "execution_count": 17,
   "metadata": {},
   "outputs": [],
   "source": [
    "# Export filtered data\n",
    "filename = date_today + ' - Job search social data scientist - FILTERED.csv'\n",
    "jobs_filtered_df.to_csv(folder_clean + filename)"
   ]
  },
  {
   "cell_type": "code",
   "execution_count": 18,
   "metadata": {},
   "outputs": [
    {
     "data": {
      "text/plain": [
       "9"
      ]
     },
     "execution_count": 18,
     "metadata": {},
     "output_type": "execute_result"
    }
   ],
   "source": [
    "# count jobs after filtering\n",
    "jobs_filtered_df['job_title'].count()"
   ]
  },
  {
   "cell_type": "code",
   "execution_count": 19,
   "metadata": {},
   "outputs": [
    {
     "data": {
      "text/html": [
       "<div>\n",
       "<style scoped>\n",
       "    .dataframe tbody tr th:only-of-type {\n",
       "        vertical-align: middle;\n",
       "    }\n",
       "\n",
       "    .dataframe tbody tr th {\n",
       "        vertical-align: top;\n",
       "    }\n",
       "\n",
       "    .dataframe thead th {\n",
       "        text-align: right;\n",
       "    }\n",
       "</style>\n",
       "<table border=\"1\" class=\"dataframe\">\n",
       "  <thead>\n",
       "    <tr style=\"text-align: right;\">\n",
       "      <th></th>\n",
       "      <th>job_title</th>\n",
       "      <th>company</th>\n",
       "      <th>location</th>\n",
       "      <th>expiration_date</th>\n",
       "      <th>source</th>\n",
       "      <th>weblink</th>\n",
       "    </tr>\n",
       "  </thead>\n",
       "  <tbody>\n",
       "    <tr>\n",
       "      <th>7</th>\n",
       "      <td>senior engagement manager</td>\n",
       "      <td>Sattva Consulting</td>\n",
       "      <td>Mumbai</td>\n",
       "      <td>05/27/2021</td>\n",
       "      <td>nextbillion</td>\n",
       "      <td>https://nextbillion.net/jobs/senior-engagement...</td>\n",
       "    </tr>\n",
       "    <tr>\n",
       "      <th>9</th>\n",
       "      <td>product manager</td>\n",
       "      <td>Taptap</td>\n",
       "      <td>London, Paris, or New York</td>\n",
       "      <td>05/02/2021</td>\n",
       "      <td>nextbillion</td>\n",
       "      <td>https://nextbillion.net/jobs/product-manager/</td>\n",
       "    </tr>\n",
       "    <tr>\n",
       "      <th>13</th>\n",
       "      <td>community manager</td>\n",
       "      <td>MovingWorlds</td>\n",
       "      <td>Global / Virtual</td>\n",
       "      <td>05/15/2021</td>\n",
       "      <td>nextbillion</td>\n",
       "      <td>https://nextbillion.net/jobs/community-manager/</td>\n",
       "    </tr>\n",
       "    <tr>\n",
       "      <th>14</th>\n",
       "      <td>grants &amp; impact manager</td>\n",
       "      <td>Pawame Kenya Ltd</td>\n",
       "      <td>Nairobi, Kenya</td>\n",
       "      <td>04/25/2021</td>\n",
       "      <td>nextbillion</td>\n",
       "      <td>https://nextbillion.net/jobs/grants-impact-man...</td>\n",
       "    </tr>\n",
       "    <tr>\n",
       "      <th>17</th>\n",
       "      <td>product manager</td>\n",
       "      <td>Taptap</td>\n",
       "      <td>London, Paris, or New York</td>\n",
       "      <td>05/02/2021</td>\n",
       "      <td>nextbillion</td>\n",
       "      <td>https://nextbillion.net/jobs/product-manager/</td>\n",
       "    </tr>\n",
       "    <tr>\n",
       "      <th>21</th>\n",
       "      <td>community manager</td>\n",
       "      <td>MovingWorlds</td>\n",
       "      <td>Global / Virtual</td>\n",
       "      <td>05/15/2021</td>\n",
       "      <td>nextbillion</td>\n",
       "      <td>https://nextbillion.net/jobs/community-manager/</td>\n",
       "    </tr>\n",
       "    <tr>\n",
       "      <th>22</th>\n",
       "      <td>grants &amp; impact manager</td>\n",
       "      <td>Pawame Kenya Ltd</td>\n",
       "      <td>Nairobi, Kenya</td>\n",
       "      <td>04/25/2021</td>\n",
       "      <td>nextbillion</td>\n",
       "      <td>https://nextbillion.net/jobs/grants-impact-man...</td>\n",
       "    </tr>\n",
       "    <tr>\n",
       "      <th>24</th>\n",
       "      <td>data scientist</td>\n",
       "      <td>Angaza</td>\n",
       "      <td>San Francisco, CA</td>\n",
       "      <td>31 Jul 2021</td>\n",
       "      <td>findevgateway</td>\n",
       "      <td>https://www.findevgateway.org/jobs-internships...</td>\n",
       "    </tr>\n",
       "    <tr>\n",
       "      <th>26</th>\n",
       "      <td>manager</td>\n",
       "      <td>Instiglio</td>\n",
       "      <td>Nairobi, Kenya</td>\n",
       "      <td>30 Jun 2021</td>\n",
       "      <td>findevgateway</td>\n",
       "      <td>https://www.findevgateway.org/jobs-internships...</td>\n",
       "    </tr>\n",
       "  </tbody>\n",
       "</table>\n",
       "</div>"
      ],
      "text/plain": [
       "                    job_title            company                    location  \\\n",
       "7   senior engagement manager  Sattva Consulting                      Mumbai   \n",
       "9             product manager             Taptap  London, Paris, or New York   \n",
       "13          community manager       MovingWorlds            Global / Virtual   \n",
       "14    grants & impact manager   Pawame Kenya Ltd              Nairobi, Kenya   \n",
       "17            product manager             Taptap  London, Paris, or New York   \n",
       "21          community manager       MovingWorlds            Global / Virtual   \n",
       "22    grants & impact manager   Pawame Kenya Ltd              Nairobi, Kenya   \n",
       "24             data scientist             Angaza           San Francisco, CA   \n",
       "26                    manager          Instiglio              Nairobi, Kenya   \n",
       "\n",
       "   expiration_date         source  \\\n",
       "7       05/27/2021    nextbillion   \n",
       "9       05/02/2021    nextbillion   \n",
       "13      05/15/2021    nextbillion   \n",
       "14      04/25/2021    nextbillion   \n",
       "17      05/02/2021    nextbillion   \n",
       "21      05/15/2021    nextbillion   \n",
       "22      04/25/2021    nextbillion   \n",
       "24     31 Jul 2021  findevgateway   \n",
       "26     30 Jun 2021  findevgateway   \n",
       "\n",
       "                                              weblink  \n",
       "7   https://nextbillion.net/jobs/senior-engagement...  \n",
       "9       https://nextbillion.net/jobs/product-manager/  \n",
       "13    https://nextbillion.net/jobs/community-manager/  \n",
       "14  https://nextbillion.net/jobs/grants-impact-man...  \n",
       "17      https://nextbillion.net/jobs/product-manager/  \n",
       "21    https://nextbillion.net/jobs/community-manager/  \n",
       "22  https://nextbillion.net/jobs/grants-impact-man...  \n",
       "24  https://www.findevgateway.org/jobs-internships...  \n",
       "26  https://www.findevgateway.org/jobs-internships...  "
      ]
     },
     "execution_count": 19,
     "metadata": {},
     "output_type": "execute_result"
    }
   ],
   "source": [
    "jobs_filtered_df"
   ]
  },
  {
   "cell_type": "code",
   "execution_count": null,
   "metadata": {},
   "outputs": [],
   "source": []
  }
 ],
 "metadata": {
  "kernelspec": {
   "display_name": "Python 3",
   "language": "python",
   "name": "python3"
  },
  "language_info": {
   "codemirror_mode": {
    "name": "ipython",
    "version": 3
   },
   "file_extension": ".py",
   "mimetype": "text/x-python",
   "name": "python",
   "nbconvert_exporter": "python",
   "pygments_lexer": "ipython3",
   "version": "3.6.12"
  }
 },
 "nbformat": 4,
 "nbformat_minor": 4
}
